{
 "cells": [
  {
   "cell_type": "markdown",
   "metadata": {},
   "source": [
    "# El funcionamiento de Purple\n",
    "\n",
    "Purple es una máquina criptográfica muy especial por varias razones. Una de ellas es su propia mecánica, y es que era de las pocas máquinas que utilizaban __interruptores de paso__ o __relés paso a paso__ como elemento de cifrado, y la otra razón es la división que hacía del alfabeto.\n",
    "\n",
    "Purple dividía el alfabeto en dos grupos. Uno de ellos contiene 6 letras del alfabeto y el otro grupo 20, y ambos grupos utilizan algoritmos de cifrado distintos.\n",
    "\n",
    "## Interruptores paso a paso\n",
    "\n",
    "![switch](http://cryptocellar.org/simula/purple/stepsw.gif)\n",
    "\n",
    "Este tipo de interruptores conectaba una entrada a una de las posibles 25 salidas, que dada una entrada, se aplciaba un pulso electromagnético que daba una salida y avanzaba el interruptor a la siguiente posición, lo que permitía obtener un cifrado en el que las letras no estaban relacionadas si se conectaba correctamente."
   ]
  }
 ],
 "metadata": {
  "kernelspec": {
   "display_name": "Python 3",
   "language": "python",
   "name": "python3"
  },
  "language_info": {
   "codemirror_mode": {
    "name": "ipython",
    "version": 3
   },
   "file_extension": ".py",
   "mimetype": "text/x-python",
   "name": "python",
   "nbconvert_exporter": "python",
   "pygments_lexer": "ipython3",
   "version": "3.6.0"
  }
 },
 "nbformat": 4,
 "nbformat_minor": 2
}
