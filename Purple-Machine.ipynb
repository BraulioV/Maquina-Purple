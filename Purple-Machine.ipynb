{
 "cells": [
  {
   "cell_type": "markdown",
   "metadata": {
    "collapsed": false,
    "deletable": true,
    "editable": true,
    "slideshow": {
     "slide_type": "slide"
    }
   },
   "source": [
    "<center>\n",
    "<h1>El secreto Japonés: la Máquina Púrpura</h1>\n",
    "<h3>Marta Gómez Macías y Braulio Vargas López</h3>\n",
    "<img src=\"https://upload.wikimedia.org/wikipedia/commons/a/a4/Type_97_cypher_machine.jpg\" alt=\"Purple\" style=\"width:50%\">\n",
    "</center>"
   ]
  },
  {
   "cell_type": "markdown",
   "metadata": {
    "collapsed": true,
    "deletable": true,
    "editable": true
   },
   "source": [
    "## ¿Qué es la máquina púrpura?\n",
    "\n",
    "Tal y como se explica en [Wikipedia](https://en.wikipedia.org/wiki/Type_B_Cipher_Machine), la ___Type B Cipher Machine___ o la ___System 97 Typewriter for European Characters___ fue una máquina criptográfica usada por el gobierno japonés antes y durante la __Segunda Guerra Mundial__. \n",
    "\n",
    "El nombre en clave que EEUU le dio a esta máquina es ___Purple___. La información que EEUU obtenía descifrando los mensajes tuvo el nombre en clave de ___Magic___.\n",
    "\n",
    "La marina japonesa pensaba que la _Purple_ era tan difícil de romper que no se molestaron en revisarla y mejorar su seguridad. Al parecer, esto era debido a que el matemático _Teiji Takagi_ (que no tenía mucha base sobre criptoanálisis) así lo dijo. Nadie en el gobierno japonés se dio cuenta de los puntos débiles que tenía la máquina.\n",
    "\n",
    "Al final de la guerra, el ejército advirtió a la marina sobre un punto débil en _Purple_, pero la marina no le hizo caso.\n",
    "\n",
    "_Purple_ fue una revisión mejorada de la máquina ___Red___. _Purple_ heredó de _Red_ un punto débil (y además ya conocido): seis letras del alfabeto se encriptaban de forma separada. La diferencia entre ambas es que la _Purple_ cambiaba dichas letras cada nueve días y en la _Red_, eran fijas."
   ]
  },
  {
   "cell_type": "code",
   "execution_count": null,
   "metadata": {
    "collapsed": true
   },
   "outputs": [],
   "source": []
  }
 ],
 "metadata": {
  "kernelspec": {
   "display_name": "Python 3",
   "language": "python",
   "name": "python3"
  },
  "language_info": {
   "codemirror_mode": {
    "name": "ipython",
    "version": 3
   },
   "file_extension": ".py",
   "mimetype": "text/x-python",
   "name": "python",
   "nbconvert_exporter": "python",
   "pygments_lexer": "ipython3",
   "version": "3.6.1"
  }
 },
 "nbformat": 4,
 "nbformat_minor": 2
}
