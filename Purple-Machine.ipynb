{
 "cells": [
  {
   "cell_type": "markdown",
   "metadata": {
    "deletable": true,
    "editable": true
   },
   "source": [
    "# Trabajo final de Criptografía"
   ]
  },
  {
   "cell_type": "markdown",
   "metadata": {
    "collapsed": false,
    "deletable": true,
    "editable": true,
    "slideshow": {
     "slide_type": "slide"
    }
   },
   "source": [
    "<center>\n",
    "<h1>El secreto Japonés: la Máquina Púrpura</h1>\n",
    "<h3>Marta Gómez Macías y Braulio Vargas López</h3>\n",
    "<img src=\"https://upload.wikimedia.org/wikipedia/commons/a/a4/Type_97_cypher_machine.jpg\" alt=\"Purple\" style=\"width:50%\">\n",
    "</center>"
   ]
  },
  {
   "cell_type": "markdown",
   "metadata": {
    "collapsed": true,
    "deletable": true,
    "editable": true
   },
   "source": [
    "## ¿Qué es la máquina púrpura?\n",
    "\n",
    "La ___Type B Cipher Machine___ o la ___System 97 Typewriter for European Characters___ fue una máquina criptográfica usada por el gobierno japonés antes y durante la __Segunda Guerra Mundial__. \n",
    "\n",
    "El nombre en clave que EEUU le dio a esta máquina es ___Purple___. La información que EEUU obtenía descifrando los mensajes tuvo el nombre en clave de ___Magic___.\n",
    "\n",
    "La marina japonesa pensaba que la _Purple_ era tan difícil de romper que no se molestaron en revisarla y mejorar su seguridad. Al parecer, esto era debido a que el matemático _Teiji Takagi_ (que no tenía mucha base sobre criptoanálisis) así lo dijo. Nadie en el gobierno japonés se dio cuenta de los puntos débiles que tenía la máquina.\n",
    "\n",
    "Al final de la guerra, el ejército advirtió a la marina sobre un punto débil en _Purple_, pero la marina no le hizo caso.\n",
    "\n",
    "_Purple_ fue una revisión mejorada de la máquina ___Red___ introducida a principios del año 1939, que introducía una mayor complejidad y sofisticación que su máquina antecesora.. _Purple_ heredó de _Red_ un punto débil (y además ya conocido): seis letras del alfabeto se encriptaban de forma separada. La diferencia entre ambas es que la _Purple_ cambiaba dichas letras cada nueve días y en la _Red_, eran fijas.\n",
    "\n",
    "## El funcionamiento de Purple\n",
    "\n",
    "Purple es una máquina criptográfica muy especial por varias razones. Una de ellas es su propia mecánica, y es que era de las pocas máquinas que utilizaban __interruptores de paso__ o __relés paso a paso__ como elemento de cifrado, y la otra razón es la división que hacía del alfabeto.\n",
    "\n",
    "Purple dividía el alfabeto en dos grupos. Uno de ellos contiene 6 letras del alfabeto y el otro grupo 20, y ambos grupos utilizan algoritmos de cifrado distintos.\n",
    "\n",
    "Purple fue y es aún hoy, una complicada máquina de cifrado, compuesta principalmente por tres partes:\n",
    "\n",
    "* __Una máquina de escribir eléctrica__: esta máquina era la encargada de introducir la preciada información en la máquina para su cifrado.\n",
    "* __Sistema de cifrado__: este sistema consisitía en la _plugboard_ al que estaban conectados cuatro interruptores paso a paso, junto con los distintos cables.\n",
    "* __Sistema de impresión__: este sistema imprimía el mensaje encriptado por la máquina.\n",
    "\n",
    "### Interruptores paso a paso\n",
    "\n",
    "![switch](http://cryptocellar.org/simula/purple/stepsw.gif)\n",
    "\n",
    "Este tipo de interruptores conectaba una entrada a una de las posibles 25 salidas, que dada una entrada, se aplciaba un pulso electromagnético que daba una salida y avanzaba el interruptor a la siguiente posición, lo que permitía obtener un cifrado en el que las letras no estaban relacionadas si se conectaba correctamente.\n",
    "\n",
    "Este tipo de interruptores son una de las diferencias de la máquina Enigma de la que nació originalmente la máquina Red, y es que Enigma usaba rotores, mientras que Purple, apostó por los _switches_ eléctricos.\n",
    "\n",
    "La máquina constaba de cuatro _switches_, uno conocido como ___sixes___, que indicaban la posición inicial del primer rotor, que cifraba seis letras, y tres rotores más conocidos como los ___twenties___, de los cuales se configuraría un interruptor rápido, uno medio y uno lento.\n",
    "\n",
    "Los tres _twenties_ pueden configurarse como __rápido__, __medio__ y __lento__.\n",
    "\n",
    "### Cifrado del mensaje\n",
    "\n",
    "La máquina era capaz de aceptar tres alfabetos diferentes, el ___alfabeto inglés___, el ___alfabeto romaji___ (romanización del alfabeto japonés) y el ___alfabeto del latín___. Uno de los problemas que tenía la máquina es que no era capaz de encriptar los símbolos de puntuación del lenguaje o números, por lo que el operario que introdujera el mensaje, tendría que mirar estos caracteres en un libro que guardaba los códigos correspondientes e introducirlos en la máquina.\n",
    "\n",
    "Para poder usar la máquina, se debía establecer una clave simétrica que usarían ambas partes tanto para cifrar como para descifrar el mensaje, siendo esta clave el abecedario a usar, qué letras corresponderían a los _sixes_, a los _twenties_, y la configuración de los switches. Para que el cifrado funcionara, ambas máquinas deben tener la misma configuración inicial.\n",
    "\n",
    "![switch1](http://cryptocellar.org/simula/purple/purple1z.gif)\n",
    "\n",
    "Cada letra de la máquina de entrada podía estar conectada a cualquier letra de la máquina Purple, siendo posible conectar una letra a los _sixes_ y a los _twenties_, por lo que si la señal eléctrica pasaba al cable de los _sixes_, se cifraría con este switch, sin embargo, si pasaba a los _twenties_, se cifraría con estos.\n",
    "\n",
    "![switch2](http://cryptocellar.org/simula/purple/purpleplugboard2.gif)\n",
    "\n",
    "Esto supone un escenario muy curioso, ya que, las letras que se cifran con los _sixes_, se usa un switch de 6 niveles con 25 posiciones, donde cada posición produce un alfabeto distinto, y cada vez que se cifra un caracter, se avanza una posición el switch. Por lo tanto, en este caso, el alfabeto que genera cada una de los niveles de la máquina se repetirá cada 25 letras.\n",
    "\n",
    "Sin embargo, el caso de los _twenties_ viene a ser algo muy diferente, y consiste en que para cifrar un carácter, se utilizan todos los rotores _twenties_, entrando una letra al primer switch, cifrándola y usando la salida como entrada para el siguiente switch. Así los tres _twenties_. \n",
    "\n",
    "Cada vez que se cifra un carácter de los _twenties_, __sólo uno de los switches avanza__, lo que hace que, para que se repita el alfabeto que produce el caracter necesitamos $25^3 = 5^6 = 15625$ caracteres cifrados. Además de esto, cualquiera de los tres switches puede ser el rápido, el medio o el lento, lo que aumenta la dificultad del cifrado al haber más variedad en el movimiento de la máquina, lo que produce elementos casi aleatorios.\n",
    "\n",
    "## ¿Cómo se rompió Purple?\n",
    "\n",
    "Una vez los estadounidenses interceptaron suficientes mensajes encriptados por _Purple_, empezaron a intentar romper su cifrado. Hay varios puntos clave sobre este proceso:\n",
    "\n",
    "* La predecesora de _Purple_, _Red_, ya se había roto varios años atrás y esto dio a los criptoanalistas varias pistas para poder romper _Purple_.\n",
    "* Los estadounidenses sabían la estructura general de los mensajes. Por ejemplo, muchos mensajes solían empezar diciendo \"I hace the honor to inform Your Excellency...\".\n",
    "* A veces los criptoanalistas obtenían información sobre el contenido del mensaje y trataban de adivinar dónde se encontraban estas palabras clave en el mensaje.\n",
    "* Otras veces obtenían directamente el texto plano y su correspondiente cifrado con _Purple_.\n",
    "* Y, también hubo otras veces en las cuales obtuvieron el mismo texto cifrado tanto con _Red_ como con _Purple_. Al estar _Red_ ya rota, obtenían el texto plano directamente.\n",
    "\n",
    "Todo esto, dio patrones a los criptoanalistas claves para poder romper _Purple_. Una vez consiguieron un modelo matemático aproximado de cómo funcionaba _Purple_, hicieron una máquina réplica. \n",
    "\n",
    "Tras esto, trataron de adivinar cómo los japoneses generaban las diferentes claves. Descubrieron que cada mes se dividía en tres grupos (períodos de 10 días) en el que cada grupo tenía un tipo de patrón. También descubrieron que la clave del primer día de cada grupo, era la misma que la de los siguientes 9 días pero cambiando el orden. Aún así, aún tenían el problema de adivinar la clave cada 10 días."
   ]
  },
  {
   "cell_type": "markdown",
   "metadata": {
    "deletable": true,
    "editable": true
   },
   "source": [
    "## Paquete `purple` de Python\n",
    "\n",
    "Hay disponible un paquete de Python y programa para la línea de comandos que emula el comportamiento de _Purple_. \n",
    "\n",
    "Vamos a cifrar y descifrar varios mensajes para mostrar su funcionamiento.\n",
    "\n",
    "En primer lugar, debemos crear una instancia de la clase `Purple97`, que representa una máquina Purple con una determinada configuración de rotores y alfabeto. El alfabeto por defecto es AEIOUYBCDFGHJKLMNPQRSTVWXZ."
   ]
  },
  {
   "cell_type": "code",
   "execution_count": 1,
   "metadata": {
    "collapsed": false,
    "deletable": true,
    "editable": true
   },
   "outputs": [],
   "source": [
    "from purple.machine import Purple97\n",
    "\n",
    "cypher_machine = Purple97(switches_pos=[6,1,24,15], fast_switch=3,\n",
    "            middle_switch=2, alphabet=None)"
   ]
  },
  {
   "cell_type": "code",
   "execution_count": 2,
   "metadata": {
    "collapsed": false,
    "deletable": true,
    "editable": true
   },
   "outputs": [
    {
     "name": "stdout",
     "output_type": "stream",
     "text": [
      "Encrypted message: KUJGJAELAXYXECOP\n"
     ]
    }
   ],
   "source": [
    "encrypted = cypher_machine.encrypt('KUNGFUALAMANECER')\n",
    "print(\"Encrypted message:\", encrypted)"
   ]
  },
  {
   "cell_type": "markdown",
   "metadata": {
    "deletable": true,
    "editable": true
   },
   "source": [
    "Para descifrar el texto, tenemos que crear otra máquina diferente pero con la misma configuración que la primera. Si no, estaríamos cifrando el texto cifrado de nuevo."
   ]
  },
  {
   "cell_type": "code",
   "execution_count": 3,
   "metadata": {
    "collapsed": false,
    "deletable": true,
    "editable": true
   },
   "outputs": [
    {
     "name": "stdout",
     "output_type": "stream",
     "text": [
      "Decrypted message: KUNGFUALAMANECER\n"
     ]
    }
   ],
   "source": [
    "decypher_machine = Purple97(switches_pos=[6,1,24,15], fast_switch=3,\n",
    "            middle_switch=2, alphabet=None)\n",
    "decrypted = decypher_machine.decrypt(encrypted)\n",
    "print(\"Decrypted message:\", decrypted)"
   ]
  },
  {
   "cell_type": "markdown",
   "metadata": {
    "deletable": true,
    "editable": true
   },
   "source": [
    "También se puede probar a cambiar el alfabeto de entrada en la máquina, y ver cómo la misma configuración cambia totalmente el cifrado."
   ]
  },
  {
   "cell_type": "code",
   "execution_count": 4,
   "metadata": {
    "collapsed": false,
    "deletable": true,
    "editable": true
   },
   "outputs": [
    {
     "name": "stdout",
     "output_type": "stream",
     "text": [
      "VXGOFHRALQBYNMTSDCEJWPIZUK\n"
     ]
    }
   ],
   "source": [
    "from random import shuffle\n",
    "from string import ascii_uppercase\n",
    "\n",
    "# Obtenemos un nuevo alfabeto\n",
    "def generate_alphabet():\n",
    "    alphabet = list(ascii_uppercase)\n",
    "    shuffle(alphabet)          # lo barajamos\n",
    "    alphabet=''.join(alphabet) # y obtenemos la cadena\n",
    "    return alphabet\n",
    "    \n",
    "alphabet = generate_alphabet()\n",
    "print(alphabet)"
   ]
  },
  {
   "cell_type": "code",
   "execution_count": 5,
   "metadata": {
    "collapsed": false,
    "deletable": true,
    "editable": true
   },
   "outputs": [
    {
     "name": "stdout",
     "output_type": "stream",
     "text": [
      "Mensaje cifrado: JLAGOWSQWWQSTPBD\n",
      "Mensaje descifrado: KUNGFUALAMANECER\n"
     ]
    }
   ],
   "source": [
    "# Creamos las máquinas de cifrado y descifrado\n",
    "cypher_machine = Purple97(switches_pos=[6,1,24,15], fast_switch=3,\n",
    "            middle_switch=2, alphabet=alphabet)\n",
    "decypher_machine = Purple97(switches_pos=[6,1,24,15], fast_switch=3,\n",
    "            middle_switch=2, alphabet=alphabet)\n",
    "\n",
    "# Encriptamos el mensaje\n",
    "encrypted = cypher_machine.encrypt('KUNGFUALAMANECER')\n",
    "descifrado = decypher_machine.decrypt(encrypted)\n",
    "\n",
    "print(\"Mensaje cifrado:\", encrypted)\n",
    "print(\"Mensaje descifrado:\", decrypted)"
   ]
  },
  {
   "cell_type": "markdown",
   "metadata": {
    "deletable": true,
    "editable": true
   },
   "source": [
    "E incluso cambiar las posiciones de los switches y la qué switch es el lento, el rápido..."
   ]
  },
  {
   "cell_type": "code",
   "execution_count": 6,
   "metadata": {
    "collapsed": false,
    "deletable": true,
    "editable": true
   },
   "outputs": [
    {
     "name": "stdout",
     "output_type": "stream",
     "text": [
      "Mensaje cifrado: BVDGYXWSJFSANJMANLFUKXHDJBPITU\n",
      "Mensaje descifrado: ELPODERDESGASTAAQUIENNOLOTIENE\n"
     ]
    }
   ],
   "source": [
    "new_alphabet = generate_alphabet()\n",
    "\n",
    "cypher_machine = Purple97(switches_pos=[2,8,1,22], fast_switch=2,\n",
    "            middle_switch=3, alphabet=new_alphabet)\n",
    "decypher_machine = Purple97(switches_pos=[2,8,1,22], fast_switch=2,\n",
    "            middle_switch=3, alphabet=new_alphabet)\n",
    "\n",
    "message = \"ELPODERDESGASTAAQUIENNOLOTIENE\"\n",
    "\n",
    "encrypted = cypher_machine.encrypt(message)\n",
    "decrypted = decypher_machine.decrypt(encrypted)\n",
    "\n",
    "print(\"Mensaje cifrado:\", encrypted)\n",
    "print(\"Mensaje descifrado:\", decrypted)"
   ]
  },
  {
   "cell_type": "markdown",
   "metadata": {
    "collapsed": true,
    "deletable": true,
    "editable": true
   },
   "source": [
    "## Bibliografía\n",
    "\n",
    "* [_Marijus Balciunas_. Japan's Purple Machine](http://ovid.cs.depaul.edu/Classes/CS233-W04/Papers/PurpleMagic.pdf)\n",
    "* [_Wikipedia_. type B Cipher Machine](https://en.wikipedia.org/wiki/Type_B_Cipher_Machine)\n",
    "* [_Cryptocellar_. Purple Machine](http://cryptocellar.org/simula/purple/index.html)\n",
    "* [purple package for python](https://pypi.python.org/pypi/purple)\n"
   ]
  }
 ],
 "metadata": {
  "kernelspec": {
   "display_name": "Python 3",
   "language": "python",
   "name": "python3"
  },
  "language_info": {
   "codemirror_mode": {
    "name": "ipython",
    "version": 3
   },
   "file_extension": ".py",
   "mimetype": "text/x-python",
   "name": "python",
   "nbconvert_exporter": "python",
   "pygments_lexer": "ipython3",
   "version": "3.6.1"
  }
 },
 "nbformat": 4,
 "nbformat_minor": 2
}
