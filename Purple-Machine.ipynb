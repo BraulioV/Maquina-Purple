{
 "cells": [
  {
   "cell_type": "markdown",
   "metadata": {
    "collapsed": false,
    "deletable": true,
    "editable": true,
    "slideshow": {
     "slide_type": "slide"
    }
   },
   "source": [
    "<center>\n",
    "<h1>El secreto Japonés: la Máquina Púrpura</h1>\n",
    "<h3>Marta Gómez Macías y Braulio Vargas López</h3>\n",
    "<img src=\"https://upload.wikimedia.org/wikipedia/commons/a/a4/Type_97_cypher_machine.jpg\" alt=\"Purple\" style=\"width:50%\">\n",
    "</center>\n",
    "#### Criptografía y Computación - Universidad de Granada"
   ]
  },
  {
   "cell_type": "markdown",
   "metadata": {
    "collapsed": true,
    "deletable": true,
    "editable": true
   },
   "source": [
    "## ¿Qué es la máquina púrpura?\n",
    "\n",
    "Tal y como se explica en [Wikipedia](https://en.wikipedia.org/wiki/Type_B_Cipher_Machine), la ___Type B Cipher Machine___ o la ___System 97 Typewriter for European Characters___ fue una máquina criptográfica usada por el gobierno japonés antes y durante la __Segunda Guerra Mundial__. \n",
    "\n",
    "El nombre en clave que EEUU le dio a esta máquina es ___Purple___. La información que EEUU obtenía descifrando los mensajes tuvo el nombre en clave de ___Magic___.\n",
    "\n",
    "La marina japonesa pensaba que la _Purple_ era tan difícil de romper que no se molestaron en revisarla y mejorar su seguridad. Al parecer, esto era debido a que el matemático _Teiji Takagi_ (que no tenía mucha base sobre criptoanálisis) así lo dijo. Nadie en el gobierno japonés se dio cuenta de los puntos débiles que tenía la máquina.\n",
    "\n",
    "Al final de la guerra, el ejército advirtió a la marina sobre un punto débil en _Purple_, pero la marina no le hizo caso.\n",
    "\n",
    "_Purple_ fue una revisión mejorada de la máquina ___Red___ introducida a principios del año 1939, que introducía una mayor complejidad y sofisticación que su máquina antecesora.. _Purple_ heredó de _Red_ un punto débil (y además ya conocido): seis letras del alfabeto se encriptaban de forma separada. La diferencia entre ambas es que la _Purple_ cambiaba dichas letras cada nueve días y en la _Red_, eran fijas.\n",
    "\n",
    "## El funcionamiento de Purple\n",
    "\n",
    "Purple es una máquina criptográfica muy especial por varias razones. Una de ellas es su propia mecánica, y es que era de las pocas máquinas que utilizaban __interruptores de paso__ o __relés paso a paso__ como elemento de cifrado, y la otra razón es la división que hacía del alfabeto.\n",
    "\n",
    "Purple dividía el alfabeto en dos grupos. Uno de ellos contiene 6 letras del alfabeto y el otro grupo 20, y ambos grupos utilizan algoritmos de cifrado distintos.\n",
    "\n",
    "Purple fue y es aún hoy, una complicada máquina de cifrado, compuesta principalmente por tres partes:\n",
    "\n",
    "* __Una máquina de escribir eléctrica__: esta máquina era la encargada de introducir la preciada información en la máquina para su cifrado.\n",
    "* __Sistema de cifrado__: este sistema consisitía en la _plugboard_ al que estaban conectados cuatro interruptores paso a paso, junto con los distintos cables.\n",
    "* __Sistema de impresión__: este sistema imprimía el mensaje encriptado por la máquina.\n",
    "\n",
    "### Interruptores paso a paso\n",
    "\n",
    "![switch](http://cryptocellar.org/simula/purple/stepsw.gif)\n",
    "\n",
    "Este tipo de interruptores conectaba una entrada a una de las posibles 25 salidas, que dada una entrada, se aplciaba un pulso electromagnético que daba una salida y avanzaba el interruptor a la siguiente posición, lo que permitía obtener un cifrado en el que las letras no estaban relacionadas si se conectaba correctamente."
   ]
  }
 ],
 "metadata": {
  "kernelspec": {
   "display_name": "Python 3",
   "language": "python",
   "name": "python3"
  },
  "language_info": {
   "codemirror_mode": {
    "name": "ipython",
    "version": 3
   },
   "file_extension": ".py",
   "mimetype": "text/x-python",
   "name": "python",
   "nbconvert_exporter": "python",
   "pygments_lexer": "ipython3",
   "version": "3.6.0"
  }
 },
 "nbformat": 4,
 "nbformat_minor": 2
}
